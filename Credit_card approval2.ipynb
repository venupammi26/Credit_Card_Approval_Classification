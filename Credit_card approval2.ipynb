{
 "cells": [
  {
   "cell_type": "code",
   "execution_count": 302,
   "metadata": {},
   "outputs": [],
   "source": [
    "import pandas as pd\n",
    "from  matplotlib import pyplot as plt\n",
    "import seaborn as sn\n",
    "import numpy as np\n",
    "import warnings\n",
    "warnings.filterwarnings(\"ignore\")"
   ]
  },
  {
   "cell_type": "code",
   "execution_count": 303,
   "metadata": {},
   "outputs": [
    {
     "data": {
      "text/html": [
       "<div>\n",
       "<style scoped>\n",
       "    .dataframe tbody tr th:only-of-type {\n",
       "        vertical-align: middle;\n",
       "    }\n",
       "\n",
       "    .dataframe tbody tr th {\n",
       "        vertical-align: top;\n",
       "    }\n",
       "\n",
       "    .dataframe thead th {\n",
       "        text-align: right;\n",
       "    }\n",
       "</style>\n",
       "<table border=\"1\" class=\"dataframe\">\n",
       "  <thead>\n",
       "    <tr style=\"text-align: right;\">\n",
       "      <th></th>\n",
       "      <th>%X1</th>\n",
       "      <th>X2</th>\n",
       "      <th>X3</th>\n",
       "      <th>X4</th>\n",
       "      <th>X5</th>\n",
       "      <th>X6</th>\n",
       "      <th>X7</th>\n",
       "      <th>X8</th>\n",
       "      <th>X9</th>\n",
       "      <th>X10</th>\n",
       "      <th>X11</th>\n",
       "      <th>X12</th>\n",
       "      <th>X13</th>\n",
       "      <th>X14</th>\n",
       "      <th>X15</th>\n",
       "      <th>class label</th>\n",
       "    </tr>\n",
       "  </thead>\n",
       "  <tbody>\n",
       "    <tr>\n",
       "      <td>0</td>\n",
       "      <td>b</td>\n",
       "      <td>30.83</td>\n",
       "      <td>0.000</td>\n",
       "      <td>u</td>\n",
       "      <td>g</td>\n",
       "      <td>w</td>\n",
       "      <td>v</td>\n",
       "      <td>1.25</td>\n",
       "      <td>t</td>\n",
       "      <td>t</td>\n",
       "      <td>1</td>\n",
       "      <td>f</td>\n",
       "      <td>g</td>\n",
       "      <td>00202</td>\n",
       "      <td>0</td>\n",
       "      <td>+</td>\n",
       "    </tr>\n",
       "    <tr>\n",
       "      <td>1</td>\n",
       "      <td>a</td>\n",
       "      <td>58.67</td>\n",
       "      <td>4.460</td>\n",
       "      <td>u</td>\n",
       "      <td>g</td>\n",
       "      <td>q</td>\n",
       "      <td>h</td>\n",
       "      <td>3.04</td>\n",
       "      <td>t</td>\n",
       "      <td>t</td>\n",
       "      <td>6</td>\n",
       "      <td>f</td>\n",
       "      <td>g</td>\n",
       "      <td>00043</td>\n",
       "      <td>560</td>\n",
       "      <td>+</td>\n",
       "    </tr>\n",
       "    <tr>\n",
       "      <td>2</td>\n",
       "      <td>a</td>\n",
       "      <td>24.50</td>\n",
       "      <td>0.500</td>\n",
       "      <td>u</td>\n",
       "      <td>g</td>\n",
       "      <td>q</td>\n",
       "      <td>h</td>\n",
       "      <td>1.50</td>\n",
       "      <td>t</td>\n",
       "      <td>f</td>\n",
       "      <td>0</td>\n",
       "      <td>f</td>\n",
       "      <td>g</td>\n",
       "      <td>00280</td>\n",
       "      <td>824</td>\n",
       "      <td>+</td>\n",
       "    </tr>\n",
       "    <tr>\n",
       "      <td>3</td>\n",
       "      <td>b</td>\n",
       "      <td>27.83</td>\n",
       "      <td>1.540</td>\n",
       "      <td>u</td>\n",
       "      <td>g</td>\n",
       "      <td>w</td>\n",
       "      <td>v</td>\n",
       "      <td>3.75</td>\n",
       "      <td>t</td>\n",
       "      <td>t</td>\n",
       "      <td>5</td>\n",
       "      <td>t</td>\n",
       "      <td>g</td>\n",
       "      <td>00100</td>\n",
       "      <td>3</td>\n",
       "      <td>+</td>\n",
       "    </tr>\n",
       "    <tr>\n",
       "      <td>4</td>\n",
       "      <td>b</td>\n",
       "      <td>20.17</td>\n",
       "      <td>5.625</td>\n",
       "      <td>u</td>\n",
       "      <td>g</td>\n",
       "      <td>w</td>\n",
       "      <td>v</td>\n",
       "      <td>1.71</td>\n",
       "      <td>t</td>\n",
       "      <td>f</td>\n",
       "      <td>0</td>\n",
       "      <td>f</td>\n",
       "      <td>s</td>\n",
       "      <td>00120</td>\n",
       "      <td>0</td>\n",
       "      <td>+</td>\n",
       "    </tr>\n",
       "  </tbody>\n",
       "</table>\n",
       "</div>"
      ],
      "text/plain": [
       "  %X1     X2     X3 X4 X5 X6 X7    X8 X9 X10  X11 X12 X13    X14  X15  \\\n",
       "0   b  30.83  0.000  u  g  w  v  1.25  t   t    1   f   g  00202    0   \n",
       "1   a  58.67  4.460  u  g  q  h  3.04  t   t    6   f   g  00043  560   \n",
       "2   a  24.50  0.500  u  g  q  h  1.50  t   f    0   f   g  00280  824   \n",
       "3   b  27.83  1.540  u  g  w  v  3.75  t   t    5   t   g  00100    3   \n",
       "4   b  20.17  5.625  u  g  w  v  1.71  t   f    0   f   s  00120    0   \n",
       "\n",
       "  class label  \n",
       "0           +  \n",
       "1           +  \n",
       "2           +  \n",
       "3           +  \n",
       "4           +  "
      ]
     },
     "execution_count": 303,
     "metadata": {},
     "output_type": "execute_result"
    }
   ],
   "source": [
    "data= pd.read_csv(\"D:\\\\datasets\\\\credit-screening.csv\")\n",
    "data.head()"
   ]
  },
  {
   "cell_type": "code",
   "execution_count": 304,
   "metadata": {},
   "outputs": [
    {
     "data": {
      "text/plain": [
       "(690, 16)"
      ]
     },
     "execution_count": 304,
     "metadata": {},
     "output_type": "execute_result"
    }
   ],
   "source": [
    "data.shape"
   ]
  },
  {
   "cell_type": "markdown",
   "metadata": {},
   "source": [
    "# Preprocessing"
   ]
  },
  {
   "cell_type": "code",
   "execution_count": 305,
   "metadata": {},
   "outputs": [
    {
     "data": {
      "text/html": [
       "<div>\n",
       "<style scoped>\n",
       "    .dataframe tbody tr th:only-of-type {\n",
       "        vertical-align: middle;\n",
       "    }\n",
       "\n",
       "    .dataframe tbody tr th {\n",
       "        vertical-align: top;\n",
       "    }\n",
       "\n",
       "    .dataframe thead th {\n",
       "        text-align: right;\n",
       "    }\n",
       "</style>\n",
       "<table border=\"1\" class=\"dataframe\">\n",
       "  <thead>\n",
       "    <tr style=\"text-align: right;\">\n",
       "      <th></th>\n",
       "      <th>X3</th>\n",
       "      <th>X8</th>\n",
       "      <th>X11</th>\n",
       "      <th>X15</th>\n",
       "    </tr>\n",
       "  </thead>\n",
       "  <tbody>\n",
       "    <tr>\n",
       "      <td>count</td>\n",
       "      <td>690.000000</td>\n",
       "      <td>690.000000</td>\n",
       "      <td>690.00000</td>\n",
       "      <td>690.000000</td>\n",
       "    </tr>\n",
       "    <tr>\n",
       "      <td>mean</td>\n",
       "      <td>4.758725</td>\n",
       "      <td>2.223406</td>\n",
       "      <td>2.40000</td>\n",
       "      <td>1017.385507</td>\n",
       "    </tr>\n",
       "    <tr>\n",
       "      <td>std</td>\n",
       "      <td>4.978163</td>\n",
       "      <td>3.346513</td>\n",
       "      <td>4.86294</td>\n",
       "      <td>5210.102598</td>\n",
       "    </tr>\n",
       "    <tr>\n",
       "      <td>min</td>\n",
       "      <td>0.000000</td>\n",
       "      <td>0.000000</td>\n",
       "      <td>0.00000</td>\n",
       "      <td>0.000000</td>\n",
       "    </tr>\n",
       "    <tr>\n",
       "      <td>25%</td>\n",
       "      <td>1.000000</td>\n",
       "      <td>0.165000</td>\n",
       "      <td>0.00000</td>\n",
       "      <td>0.000000</td>\n",
       "    </tr>\n",
       "    <tr>\n",
       "      <td>50%</td>\n",
       "      <td>2.750000</td>\n",
       "      <td>1.000000</td>\n",
       "      <td>0.00000</td>\n",
       "      <td>5.000000</td>\n",
       "    </tr>\n",
       "    <tr>\n",
       "      <td>75%</td>\n",
       "      <td>7.207500</td>\n",
       "      <td>2.625000</td>\n",
       "      <td>3.00000</td>\n",
       "      <td>395.500000</td>\n",
       "    </tr>\n",
       "    <tr>\n",
       "      <td>max</td>\n",
       "      <td>28.000000</td>\n",
       "      <td>28.500000</td>\n",
       "      <td>67.00000</td>\n",
       "      <td>100000.000000</td>\n",
       "    </tr>\n",
       "  </tbody>\n",
       "</table>\n",
       "</div>"
      ],
      "text/plain": [
       "               X3          X8        X11            X15\n",
       "count  690.000000  690.000000  690.00000     690.000000\n",
       "mean     4.758725    2.223406    2.40000    1017.385507\n",
       "std      4.978163    3.346513    4.86294    5210.102598\n",
       "min      0.000000    0.000000    0.00000       0.000000\n",
       "25%      1.000000    0.165000    0.00000       0.000000\n",
       "50%      2.750000    1.000000    0.00000       5.000000\n",
       "75%      7.207500    2.625000    3.00000     395.500000\n",
       "max     28.000000   28.500000   67.00000  100000.000000"
      ]
     },
     "execution_count": 305,
     "metadata": {},
     "output_type": "execute_result"
    }
   ],
   "source": [
    "data.describe()"
   ]
  },
  {
   "cell_type": "code",
   "execution_count": 306,
   "metadata": {},
   "outputs": [
    {
     "data": {
      "text/plain": [
       "%X1             object\n",
       "X2              object\n",
       "X3             float64\n",
       "X4              object\n",
       "X5              object\n",
       "X6              object\n",
       "X7              object\n",
       "X8             float64\n",
       "X9              object\n",
       "X10             object\n",
       "X11              int64\n",
       "X12             object\n",
       "X13             object\n",
       "X14             object\n",
       "X15              int64\n",
       "class label     object\n",
       "dtype: object"
      ]
     },
     "execution_count": 306,
     "metadata": {},
     "output_type": "execute_result"
    }
   ],
   "source": [
    "data.dtypes"
   ]
  },
  {
   "cell_type": "code",
   "execution_count": 307,
   "metadata": {},
   "outputs": [
    {
     "data": {
      "text/plain": [
       "'!\"#$%&\\'()*+,-./:;<=>?@[\\\\]^_`{|}~'"
      ]
     },
     "execution_count": 307,
     "metadata": {},
     "output_type": "execute_result"
    }
   ],
   "source": [
    "#check in any other characters in X2,X3,X8,x14,X15\n",
    "from string import punctuation\n",
    "punctuation"
   ]
  },
  {
   "cell_type": "code",
   "execution_count": 308,
   "metadata": {},
   "outputs": [],
   "source": [
    "pun='!\"#$%&\\'()*,./:;<=>?@[\\\\]^_`{|}~'\n",
    "def split(word): \n",
    "    return [char for char in word]  \n",
    "chars=list(split(pun))\n",
    "\n",
    "data=data.replace(to_replace =chars,value =np.NaN) "
   ]
  },
  {
   "cell_type": "code",
   "execution_count": 309,
   "metadata": {},
   "outputs": [
    {
     "data": {
      "text/plain": [
       "%X1            12\n",
       "X2             12\n",
       "X3              0\n",
       "X4              6\n",
       "X5              6\n",
       "X6              9\n",
       "X7              9\n",
       "X8              0\n",
       "X9              0\n",
       "X10             0\n",
       "X11             0\n",
       "X12             0\n",
       "X13             0\n",
       "X14            13\n",
       "X15             0\n",
       "class label     0\n",
       "dtype: int64"
      ]
     },
     "execution_count": 309,
     "metadata": {},
     "output_type": "execute_result"
    }
   ],
   "source": [
    "data.isnull().sum()"
   ]
  },
  {
   "cell_type": "code",
   "execution_count": 280,
   "metadata": {},
   "outputs": [
    {
     "data": {
      "text/plain": [
       "%X1            0\n",
       "X2             0\n",
       "X3             0\n",
       "X4             0\n",
       "X5             0\n",
       "X6             0\n",
       "X7             0\n",
       "X8             0\n",
       "X9             0\n",
       "X10            0\n",
       "X11            0\n",
       "X12            0\n",
       "X13            0\n",
       "X14            0\n",
       "X15            0\n",
       "class label    0\n",
       "dtype: int64"
      ]
     },
     "execution_count": 280,
     "metadata": {},
     "output_type": "execute_result"
    }
   ],
   "source": [
    "data.dropna(axis=0, inplace=True)\n",
    "data.isnull().sum()"
   ]
  },
  {
   "cell_type": "code",
   "execution_count": 281,
   "metadata": {},
   "outputs": [
    {
     "data": {
      "text/html": [
       "<div>\n",
       "<style scoped>\n",
       "    .dataframe tbody tr th:only-of-type {\n",
       "        vertical-align: middle;\n",
       "    }\n",
       "\n",
       "    .dataframe tbody tr th {\n",
       "        vertical-align: top;\n",
       "    }\n",
       "\n",
       "    .dataframe thead th {\n",
       "        text-align: right;\n",
       "    }\n",
       "</style>\n",
       "<table border=\"1\" class=\"dataframe\">\n",
       "  <thead>\n",
       "    <tr style=\"text-align: right;\">\n",
       "      <th></th>\n",
       "      <th>%X1</th>\n",
       "      <th>X2</th>\n",
       "      <th>X3</th>\n",
       "      <th>X4</th>\n",
       "      <th>X5</th>\n",
       "      <th>X6</th>\n",
       "      <th>X7</th>\n",
       "      <th>X8</th>\n",
       "      <th>X9</th>\n",
       "      <th>X10</th>\n",
       "      <th>X11</th>\n",
       "      <th>X12</th>\n",
       "      <th>X13</th>\n",
       "      <th>X14</th>\n",
       "      <th>X15</th>\n",
       "      <th>class label</th>\n",
       "    </tr>\n",
       "  </thead>\n",
       "  <tbody>\n",
       "    <tr>\n",
       "      <td>0</td>\n",
       "      <td>b</td>\n",
       "      <td>30.83</td>\n",
       "      <td>0.000</td>\n",
       "      <td>u</td>\n",
       "      <td>g</td>\n",
       "      <td>w</td>\n",
       "      <td>v</td>\n",
       "      <td>1.25</td>\n",
       "      <td>t</td>\n",
       "      <td>t</td>\n",
       "      <td>1</td>\n",
       "      <td>f</td>\n",
       "      <td>g</td>\n",
       "      <td>00202</td>\n",
       "      <td>0</td>\n",
       "      <td>+</td>\n",
       "    </tr>\n",
       "    <tr>\n",
       "      <td>1</td>\n",
       "      <td>a</td>\n",
       "      <td>58.67</td>\n",
       "      <td>4.460</td>\n",
       "      <td>u</td>\n",
       "      <td>g</td>\n",
       "      <td>q</td>\n",
       "      <td>h</td>\n",
       "      <td>3.04</td>\n",
       "      <td>t</td>\n",
       "      <td>t</td>\n",
       "      <td>6</td>\n",
       "      <td>f</td>\n",
       "      <td>g</td>\n",
       "      <td>00043</td>\n",
       "      <td>560</td>\n",
       "      <td>+</td>\n",
       "    </tr>\n",
       "    <tr>\n",
       "      <td>2</td>\n",
       "      <td>a</td>\n",
       "      <td>24.50</td>\n",
       "      <td>0.500</td>\n",
       "      <td>u</td>\n",
       "      <td>g</td>\n",
       "      <td>q</td>\n",
       "      <td>h</td>\n",
       "      <td>1.50</td>\n",
       "      <td>t</td>\n",
       "      <td>f</td>\n",
       "      <td>0</td>\n",
       "      <td>f</td>\n",
       "      <td>g</td>\n",
       "      <td>00280</td>\n",
       "      <td>824</td>\n",
       "      <td>+</td>\n",
       "    </tr>\n",
       "    <tr>\n",
       "      <td>3</td>\n",
       "      <td>b</td>\n",
       "      <td>27.83</td>\n",
       "      <td>1.540</td>\n",
       "      <td>u</td>\n",
       "      <td>g</td>\n",
       "      <td>w</td>\n",
       "      <td>v</td>\n",
       "      <td>3.75</td>\n",
       "      <td>t</td>\n",
       "      <td>t</td>\n",
       "      <td>5</td>\n",
       "      <td>t</td>\n",
       "      <td>g</td>\n",
       "      <td>00100</td>\n",
       "      <td>3</td>\n",
       "      <td>+</td>\n",
       "    </tr>\n",
       "    <tr>\n",
       "      <td>4</td>\n",
       "      <td>b</td>\n",
       "      <td>20.17</td>\n",
       "      <td>5.625</td>\n",
       "      <td>u</td>\n",
       "      <td>g</td>\n",
       "      <td>w</td>\n",
       "      <td>v</td>\n",
       "      <td>1.71</td>\n",
       "      <td>t</td>\n",
       "      <td>f</td>\n",
       "      <td>0</td>\n",
       "      <td>f</td>\n",
       "      <td>s</td>\n",
       "      <td>00120</td>\n",
       "      <td>0</td>\n",
       "      <td>+</td>\n",
       "    </tr>\n",
       "  </tbody>\n",
       "</table>\n",
       "</div>"
      ],
      "text/plain": [
       "  %X1     X2     X3 X4 X5 X6 X7    X8 X9 X10  X11 X12 X13    X14  X15  \\\n",
       "0   b  30.83  0.000  u  g  w  v  1.25  t   t    1   f   g  00202    0   \n",
       "1   a  58.67  4.460  u  g  q  h  3.04  t   t    6   f   g  00043  560   \n",
       "2   a  24.50  0.500  u  g  q  h  1.50  t   f    0   f   g  00280  824   \n",
       "3   b  27.83  1.540  u  g  w  v  3.75  t   t    5   t   g  00100    3   \n",
       "4   b  20.17  5.625  u  g  w  v  1.71  t   f    0   f   s  00120    0   \n",
       "\n",
       "  class label  \n",
       "0           +  \n",
       "1           +  \n",
       "2           +  \n",
       "3           +  \n",
       "4           +  "
      ]
     },
     "execution_count": 281,
     "metadata": {},
     "output_type": "execute_result"
    }
   ],
   "source": [
    "data.head()"
   ]
  },
  {
   "cell_type": "code",
   "execution_count": 282,
   "metadata": {},
   "outputs": [
    {
     "data": {
      "text/plain": [
       "(653, 16)"
      ]
     },
     "execution_count": 282,
     "metadata": {},
     "output_type": "execute_result"
    }
   ],
   "source": [
    "data.shape"
   ]
  },
  {
   "cell_type": "code",
   "execution_count": 283,
   "metadata": {},
   "outputs": [
    {
     "data": {
      "text/plain": [
       "%X1             object\n",
       "X2              object\n",
       "X3             float64\n",
       "X4              object\n",
       "X5              object\n",
       "X6              object\n",
       "X7              object\n",
       "X8             float64\n",
       "X9              object\n",
       "X10             object\n",
       "X11              int64\n",
       "X12             object\n",
       "X13             object\n",
       "X14             object\n",
       "X15              int64\n",
       "class label     object\n",
       "dtype: object"
      ]
     },
     "execution_count": 283,
     "metadata": {},
     "output_type": "execute_result"
    }
   ],
   "source": [
    "data.dtypes"
   ]
  },
  {
   "cell_type": "code",
   "execution_count": 284,
   "metadata": {},
   "outputs": [
    {
     "data": {
      "text/plain": [
       "%X1             object\n",
       "X2             float64\n",
       "X3             float64\n",
       "X4              object\n",
       "X5              object\n",
       "X6              object\n",
       "X7              object\n",
       "X8             float64\n",
       "X9              object\n",
       "X10             object\n",
       "X11              int64\n",
       "X12             object\n",
       "X13             object\n",
       "X14             object\n",
       "X15              int64\n",
       "class label     object\n",
       "dtype: object"
      ]
     },
     "execution_count": 284,
     "metadata": {},
     "output_type": "execute_result"
    }
   ],
   "source": [
    "data.X2=pd.to_numeric(data.X2)\n",
    "data.dtypes"
   ]
  },
  {
   "cell_type": "code",
   "execution_count": 286,
   "metadata": {
    "scrolled": true
   },
   "outputs": [
    {
     "data": {
      "image/png": "[encoded data removed]",
      "text/plain": [
       "<Figure size 1080x360 with 2 Axes>"
      ]
     },
     "metadata": {
      "needs_background": "light"
     },
     "output_type": "display_data"
    }
   ],
   "source": [
    "#Outlier\n",
    "import matplotlib.pyplot as plt\n",
    "import seaborn as sns\n",
    "\n",
    "fig, axs = plt.subplots(1,2, figsize = (15,5))\n",
    "\n",
    "sns.boxplot(data.X2, ax = axs[0])\n",
    "sns.boxplot(data.X15, ax = axs[1])\n",
    "\n",
    "plt.tight_layout\n",
    "plt.show()"
   ]
  },
  {
   "cell_type": "code",
   "execution_count": 287,
   "metadata": {},
   "outputs": [],
   "source": [
    "#Outlier Treatment for x2\n",
    "Q1 = data.X2.quantile(0.25)\n",
    "Q3 = data.X2.quantile(0.75)\n",
    "IQR = Q3 - Q1\n",
    "data = data[(data.X2 >= Q1 - 1.5*IQR) & (data.X2 <= Q3 + 1.5*IQR)]"
   ]
  },
  {
   "cell_type": "code",
   "execution_count": 288,
   "metadata": {},
   "outputs": [],
   "source": [
    "# outlier treatment for X15\n",
    "Q1 = data.X15.quantile(0.25)\n",
    "Q3 = data.X15.quantile(0.75)\n",
    "IQR = Q3 - Q1\n",
    "data = data[(data.X15 >= Q1 - 1.5*IQR) & (data.X15 <= Q3 + 1.5*IQR)]"
   ]
  },
  {
   "cell_type": "code",
   "execution_count": 289,
   "metadata": {},
   "outputs": [
    {
     "data": {
      "image/png": "[encoded data removed]",
      "text/plain": [
       "<Figure size 1080x360 with 2 Axes>"
      ]
     },
     "metadata": {
      "needs_background": "light"
     },
     "output_type": "display_data"
    }
   ],
   "source": [
    "fig, axs = plt.subplots(1,2, figsize = (15,5))\n",
    "\n",
    "sns.boxplot(data.X2, ax = axs[0])\n",
    "sns.boxplot(data.X15, ax = axs[1])\n",
    "\n",
    "plt.tight_layout\n",
    "plt.show()"
   ]
  },
  {
   "cell_type": "code",
   "execution_count": 110,
   "metadata": {},
   "outputs": [
    {
     "data": {
      "text/plain": [
       "(555, 16)"
      ]
     },
     "execution_count": 110,
     "metadata": {},
     "output_type": "execute_result"
    }
   ],
   "source": [
    "data.shape"
   ]
  },
  {
   "cell_type": "markdown",
   "metadata": {},
   "source": [
    "# Now we have to convert X1,X4,\tX5,\tX6,\tX7,\tX9,\tX10,X12,X13 variables into numerical data\n",
    "\n"
   ]
  },
  {
   "cell_type": "code",
   "execution_count": 111,
   "metadata": {},
   "outputs": [
    {
     "data": {
      "text/html": [
       "<div>\n",
       "<style scoped>\n",
       "    .dataframe tbody tr th:only-of-type {\n",
       "        vertical-align: middle;\n",
       "    }\n",
       "\n",
       "    .dataframe tbody tr th {\n",
       "        vertical-align: top;\n",
       "    }\n",
       "\n",
       "    .dataframe thead th {\n",
       "        text-align: right;\n",
       "    }\n",
       "</style>\n",
       "<table border=\"1\" class=\"dataframe\">\n",
       "  <thead>\n",
       "    <tr style=\"text-align: right;\">\n",
       "      <th></th>\n",
       "      <th>%X1</th>\n",
       "      <th>X2</th>\n",
       "      <th>X3</th>\n",
       "      <th>X4</th>\n",
       "      <th>X5</th>\n",
       "      <th>X6</th>\n",
       "      <th>X7</th>\n",
       "      <th>X8</th>\n",
       "      <th>X9</th>\n",
       "      <th>X10</th>\n",
       "      <th>X11</th>\n",
       "      <th>X12</th>\n",
       "      <th>X13</th>\n",
       "      <th>X14</th>\n",
       "      <th>X15</th>\n",
       "      <th>class label</th>\n",
       "    </tr>\n",
       "  </thead>\n",
       "  <tbody>\n",
       "    <tr>\n",
       "      <td>0</td>\n",
       "      <td>b</td>\n",
       "      <td>30.83</td>\n",
       "      <td>0.000</td>\n",
       "      <td>u</td>\n",
       "      <td>g</td>\n",
       "      <td>w</td>\n",
       "      <td>v</td>\n",
       "      <td>1.25</td>\n",
       "      <td>t</td>\n",
       "      <td>t</td>\n",
       "      <td>1</td>\n",
       "      <td>f</td>\n",
       "      <td>g</td>\n",
       "      <td>00202</td>\n",
       "      <td>0</td>\n",
       "      <td>+</td>\n",
       "    </tr>\n",
       "    <tr>\n",
       "      <td>1</td>\n",
       "      <td>a</td>\n",
       "      <td>58.67</td>\n",
       "      <td>4.460</td>\n",
       "      <td>u</td>\n",
       "      <td>g</td>\n",
       "      <td>q</td>\n",
       "      <td>h</td>\n",
       "      <td>3.04</td>\n",
       "      <td>t</td>\n",
       "      <td>t</td>\n",
       "      <td>6</td>\n",
       "      <td>f</td>\n",
       "      <td>g</td>\n",
       "      <td>00043</td>\n",
       "      <td>560</td>\n",
       "      <td>+</td>\n",
       "    </tr>\n",
       "    <tr>\n",
       "      <td>2</td>\n",
       "      <td>a</td>\n",
       "      <td>24.50</td>\n",
       "      <td>0.500</td>\n",
       "      <td>u</td>\n",
       "      <td>g</td>\n",
       "      <td>q</td>\n",
       "      <td>h</td>\n",
       "      <td>1.50</td>\n",
       "      <td>t</td>\n",
       "      <td>f</td>\n",
       "      <td>0</td>\n",
       "      <td>f</td>\n",
       "      <td>g</td>\n",
       "      <td>00280</td>\n",
       "      <td>824</td>\n",
       "      <td>+</td>\n",
       "    </tr>\n",
       "    <tr>\n",
       "      <td>3</td>\n",
       "      <td>b</td>\n",
       "      <td>27.83</td>\n",
       "      <td>1.540</td>\n",
       "      <td>u</td>\n",
       "      <td>g</td>\n",
       "      <td>w</td>\n",
       "      <td>v</td>\n",
       "      <td>3.75</td>\n",
       "      <td>t</td>\n",
       "      <td>t</td>\n",
       "      <td>5</td>\n",
       "      <td>t</td>\n",
       "      <td>g</td>\n",
       "      <td>00100</td>\n",
       "      <td>3</td>\n",
       "      <td>+</td>\n",
       "    </tr>\n",
       "    <tr>\n",
       "      <td>4</td>\n",
       "      <td>b</td>\n",
       "      <td>20.17</td>\n",
       "      <td>5.625</td>\n",
       "      <td>u</td>\n",
       "      <td>g</td>\n",
       "      <td>w</td>\n",
       "      <td>v</td>\n",
       "      <td>1.71</td>\n",
       "      <td>t</td>\n",
       "      <td>f</td>\n",
       "      <td>0</td>\n",
       "      <td>f</td>\n",
       "      <td>s</td>\n",
       "      <td>00120</td>\n",
       "      <td>0</td>\n",
       "      <td>+</td>\n",
       "    </tr>\n",
       "  </tbody>\n",
       "</table>\n",
       "</div>"
      ],
      "text/plain": [
       "  %X1     X2     X3 X4 X5 X6 X7    X8 X9 X10  X11 X12 X13    X14  X15  \\\n",
       "0   b  30.83  0.000  u  g  w  v  1.25  t   t    1   f   g  00202    0   \n",
       "1   a  58.67  4.460  u  g  q  h  3.04  t   t    6   f   g  00043  560   \n",
       "2   a  24.50  0.500  u  g  q  h  1.50  t   f    0   f   g  00280  824   \n",
       "3   b  27.83  1.540  u  g  w  v  3.75  t   t    5   t   g  00100    3   \n",
       "4   b  20.17  5.625  u  g  w  v  1.71  t   f    0   f   s  00120    0   \n",
       "\n",
       "  class label  \n",
       "0           +  \n",
       "1           +  \n",
       "2           +  \n",
       "3           +  \n",
       "4           +  "
      ]
     },
     "execution_count": 111,
     "metadata": {},
     "output_type": "execute_result"
    }
   ],
   "source": [
    "data.head()"
   ]
  },
  {
   "cell_type": "code",
   "execution_count": 112,
   "metadata": {},
   "outputs": [],
   "source": [
    "#Function for dictonary to store coding info about varaibles\n",
    "info={}\n",
    "def code_map(le,name):\n",
    "    global info\n",
    "    job_name_mapping = dict(zip(le.classes_, le.transform(le.classes_)))\n",
    "    info[name]=job_name_mapping\n",
    "    print(name,' :varaiable successfully coded')"
   ]
  },
  {
   "cell_type": "code",
   "execution_count": 113,
   "metadata": {},
   "outputs": [
    {
     "name": "stdout",
     "output_type": "stream",
     "text": [
      "%X1  :varaiable successfully coded\n",
      "X4  :varaiable successfully coded\n",
      "X5  :varaiable successfully coded\n",
      "X6  :varaiable successfully coded\n",
      "X7  :varaiable successfully coded\n",
      "X9  :varaiable successfully coded\n",
      "X10  :varaiable successfully coded\n",
      "X12  :varaiable successfully coded\n",
      "X13  :varaiable successfully coded\n"
     ]
    },
    {
     "data": {
      "text/html": [
       "<div>\n",
       "<style scoped>\n",
       "    .dataframe tbody tr th:only-of-type {\n",
       "        vertical-align: middle;\n",
       "    }\n",
       "\n",
       "    .dataframe tbody tr th {\n",
       "        vertical-align: top;\n",
       "    }\n",
       "\n",
       "    .dataframe thead th {\n",
       "        text-align: right;\n",
       "    }\n",
       "</style>\n",
       "<table border=\"1\" class=\"dataframe\">\n",
       "  <thead>\n",
       "    <tr style=\"text-align: right;\">\n",
       "      <th></th>\n",
       "      <th>%X1</th>\n",
       "      <th>X2</th>\n",
       "      <th>X3</th>\n",
       "      <th>X4</th>\n",
       "      <th>X5</th>\n",
       "      <th>X6</th>\n",
       "      <th>X7</th>\n",
       "      <th>X8</th>\n",
       "      <th>X9</th>\n",
       "      <th>X10</th>\n",
       "      <th>X11</th>\n",
       "      <th>X12</th>\n",
       "      <th>X13</th>\n",
       "      <th>X14</th>\n",
       "      <th>X15</th>\n",
       "      <th>class label</th>\n",
       "    </tr>\n",
       "  </thead>\n",
       "  <tbody>\n",
       "    <tr>\n",
       "      <td>0</td>\n",
       "      <td>2</td>\n",
       "      <td>30.83</td>\n",
       "      <td>0.000</td>\n",
       "      <td>1</td>\n",
       "      <td>0</td>\n",
       "      <td>13</td>\n",
       "      <td>8</td>\n",
       "      <td>1.25</td>\n",
       "      <td>1</td>\n",
       "      <td>1</td>\n",
       "      <td>1</td>\n",
       "      <td>0</td>\n",
       "      <td>0</td>\n",
       "      <td>00202</td>\n",
       "      <td>0</td>\n",
       "      <td>+</td>\n",
       "    </tr>\n",
       "    <tr>\n",
       "      <td>1</td>\n",
       "      <td>1</td>\n",
       "      <td>58.67</td>\n",
       "      <td>4.460</td>\n",
       "      <td>1</td>\n",
       "      <td>0</td>\n",
       "      <td>11</td>\n",
       "      <td>4</td>\n",
       "      <td>3.04</td>\n",
       "      <td>1</td>\n",
       "      <td>1</td>\n",
       "      <td>6</td>\n",
       "      <td>0</td>\n",
       "      <td>0</td>\n",
       "      <td>00043</td>\n",
       "      <td>560</td>\n",
       "      <td>+</td>\n",
       "    </tr>\n",
       "    <tr>\n",
       "      <td>2</td>\n",
       "      <td>1</td>\n",
       "      <td>24.50</td>\n",
       "      <td>0.500</td>\n",
       "      <td>1</td>\n",
       "      <td>0</td>\n",
       "      <td>11</td>\n",
       "      <td>4</td>\n",
       "      <td>1.50</td>\n",
       "      <td>1</td>\n",
       "      <td>0</td>\n",
       "      <td>0</td>\n",
       "      <td>0</td>\n",
       "      <td>0</td>\n",
       "      <td>00280</td>\n",
       "      <td>824</td>\n",
       "      <td>+</td>\n",
       "    </tr>\n",
       "    <tr>\n",
       "      <td>3</td>\n",
       "      <td>2</td>\n",
       "      <td>27.83</td>\n",
       "      <td>1.540</td>\n",
       "      <td>1</td>\n",
       "      <td>0</td>\n",
       "      <td>13</td>\n",
       "      <td>8</td>\n",
       "      <td>3.75</td>\n",
       "      <td>1</td>\n",
       "      <td>1</td>\n",
       "      <td>5</td>\n",
       "      <td>1</td>\n",
       "      <td>0</td>\n",
       "      <td>00100</td>\n",
       "      <td>3</td>\n",
       "      <td>+</td>\n",
       "    </tr>\n",
       "    <tr>\n",
       "      <td>4</td>\n",
       "      <td>2</td>\n",
       "      <td>20.17</td>\n",
       "      <td>5.625</td>\n",
       "      <td>1</td>\n",
       "      <td>0</td>\n",
       "      <td>13</td>\n",
       "      <td>8</td>\n",
       "      <td>1.71</td>\n",
       "      <td>1</td>\n",
       "      <td>0</td>\n",
       "      <td>0</td>\n",
       "      <td>0</td>\n",
       "      <td>2</td>\n",
       "      <td>00120</td>\n",
       "      <td>0</td>\n",
       "      <td>+</td>\n",
       "    </tr>\n",
       "  </tbody>\n",
       "</table>\n",
       "</div>"
      ],
      "text/plain": [
       "   %X1     X2     X3  X4  X5  X6  X7    X8  X9  X10  X11  X12  X13    X14  \\\n",
       "0    2  30.83  0.000   1   0  13   8  1.25   1    1    1    0    0  00202   \n",
       "1    1  58.67  4.460   1   0  11   4  3.04   1    1    6    0    0  00043   \n",
       "2    1  24.50  0.500   1   0  11   4  1.50   1    0    0    0    0  00280   \n",
       "3    2  27.83  1.540   1   0  13   8  3.75   1    1    5    1    0  00100   \n",
       "4    2  20.17  5.625   1   0  13   8  1.71   1    0    0    0    2  00120   \n",
       "\n",
       "   X15 class label  \n",
       "0    0           +  \n",
       "1  560           +  \n",
       "2  824           +  \n",
       "3    3           +  \n",
       "4    0           +  "
      ]
     },
     "execution_count": 113,
     "metadata": {},
     "output_type": "execute_result"
    }
   ],
   "source": [
    "from sklearn import preprocessing\n",
    "# create the Labelencoder object\n",
    "le = preprocessing.LabelEncoder()\n",
    "#convert the categorical columns into numeric\n",
    "data['%X1']=le.fit_transform(data['%X1'])\n",
    "code_map(le,'%X1')\n",
    "\n",
    "data['X4']=le.fit_transform(data['X4'])\n",
    "code_map(le,'X4')\n",
    "\n",
    "data['X5']=le.fit_transform(data['X5'])\n",
    "code_map(le,'X5')\n",
    "\n",
    "data['X6']=le.fit_transform(data['X6'])\n",
    "code_map(le,'X6')\n",
    "\n",
    "data['X7']=le.fit_transform(data['X7'])\n",
    "code_map(le,'X7')\n",
    "\n",
    "data['X9']=le.fit_transform(data['X9'])\n",
    "code_map(le,'X9')\n",
    "\n",
    "data['X10']=le.fit_transform(data['X10'])\n",
    "code_map(le,'X10')\n",
    "\n",
    "data['X12']=le.fit_transform(data['X12'])\n",
    "code_map(le,'X12')\n",
    "\n",
    "data['X13']=le.fit_transform(data['X13'])\n",
    "code_map(le,'X13')\n",
    "\n",
    "data.head()"
   ]
  },
  {
   "cell_type": "code",
   "execution_count": 114,
   "metadata": {},
   "outputs": [
    {
     "data": {
      "text/plain": [
       "{'%X1': {'?': 0, 'a': 1, 'b': 2},\n",
       " 'X4': {'l': 0, 'u': 1, 'y': 2},\n",
       " 'X5': {'g': 0, 'gg': 1, 'p': 2},\n",
       " 'X6': {'?': 0,\n",
       "  'aa': 1,\n",
       "  'c': 2,\n",
       "  'cc': 3,\n",
       "  'd': 4,\n",
       "  'e': 5,\n",
       "  'ff': 6,\n",
       "  'i': 7,\n",
       "  'j': 8,\n",
       "  'k': 9,\n",
       "  'm': 10,\n",
       "  'q': 11,\n",
       "  'r': 12,\n",
       "  'w': 13,\n",
       "  'x': 14},\n",
       " 'X7': {'?': 0,\n",
       "  'bb': 1,\n",
       "  'dd': 2,\n",
       "  'ff': 3,\n",
       "  'h': 4,\n",
       "  'j': 5,\n",
       "  'n': 6,\n",
       "  'o': 7,\n",
       "  'v': 8,\n",
       "  'z': 9},\n",
       " 'X9': {'f': 0, 't': 1},\n",
       " 'X10': {'f': 0, 't': 1},\n",
       " 'X12': {'f': 0, 't': 1},\n",
       " 'X13': {'g': 0, 'p': 1, 's': 2}}"
      ]
     },
     "execution_count": 114,
     "metadata": {},
     "output_type": "execute_result"
    }
   ],
   "source": [
    "#coded data\n",
    "info"
   ]
  },
  {
   "cell_type": "code",
   "execution_count": 115,
   "metadata": {},
   "outputs": [
    {
     "data": {
      "text/html": [
       "<div>\n",
       "<style scoped>\n",
       "    .dataframe tbody tr th:only-of-type {\n",
       "        vertical-align: middle;\n",
       "    }\n",
       "\n",
       "    .dataframe tbody tr th {\n",
       "        vertical-align: top;\n",
       "    }\n",
       "\n",
       "    .dataframe thead th {\n",
       "        text-align: right;\n",
       "    }\n",
       "</style>\n",
       "<table border=\"1\" class=\"dataframe\">\n",
       "  <thead>\n",
       "    <tr style=\"text-align: right;\">\n",
       "      <th></th>\n",
       "      <th>%X1</th>\n",
       "      <th>X2</th>\n",
       "      <th>X3</th>\n",
       "      <th>X4</th>\n",
       "      <th>X5</th>\n",
       "      <th>X6</th>\n",
       "      <th>X7</th>\n",
       "      <th>X8</th>\n",
       "      <th>X9</th>\n",
       "      <th>X10</th>\n",
       "      <th>X11</th>\n",
       "      <th>X12</th>\n",
       "      <th>X13</th>\n",
       "      <th>X15</th>\n",
       "    </tr>\n",
       "  </thead>\n",
       "  <tbody>\n",
       "    <tr>\n",
       "      <td>%X1</td>\n",
       "      <td>1.000000</td>\n",
       "      <td>0.059702</td>\n",
       "      <td>0.000892</td>\n",
       "      <td>0.037958</td>\n",
       "      <td>0.030319</td>\n",
       "      <td>0.001563</td>\n",
       "      <td>0.085104</td>\n",
       "      <td>0.114469</td>\n",
       "      <td>0.041874</td>\n",
       "      <td>-0.052548</td>\n",
       "      <td>0.026849</td>\n",
       "      <td>0.046226</td>\n",
       "      <td>0.068913</td>\n",
       "      <td>-0.052107</td>\n",
       "    </tr>\n",
       "    <tr>\n",
       "      <td>X2</td>\n",
       "      <td>0.059702</td>\n",
       "      <td>1.000000</td>\n",
       "      <td>0.113973</td>\n",
       "      <td>-0.079490</td>\n",
       "      <td>-0.087306</td>\n",
       "      <td>0.034905</td>\n",
       "      <td>-0.208915</td>\n",
       "      <td>0.380424</td>\n",
       "      <td>0.164611</td>\n",
       "      <td>0.013842</td>\n",
       "      <td>0.147272</td>\n",
       "      <td>0.081754</td>\n",
       "      <td>0.005050</td>\n",
       "      <td>-0.014190</td>\n",
       "    </tr>\n",
       "    <tr>\n",
       "      <td>X3</td>\n",
       "      <td>0.000892</td>\n",
       "      <td>0.113973</td>\n",
       "      <td>1.000000</td>\n",
       "      <td>-0.075675</td>\n",
       "      <td>-0.081620</td>\n",
       "      <td>0.041003</td>\n",
       "      <td>-0.043448</td>\n",
       "      <td>0.249376</td>\n",
       "      <td>0.275219</td>\n",
       "      <td>0.181276</td>\n",
       "      <td>0.284616</td>\n",
       "      <td>0.023206</td>\n",
       "      <td>-0.110240</td>\n",
       "      <td>0.067727</td>\n",
       "    </tr>\n",
       "    <tr>\n",
       "      <td>X4</td>\n",
       "      <td>0.037958</td>\n",
       "      <td>-0.079490</td>\n",
       "      <td>-0.075675</td>\n",
       "      <td>1.000000</td>\n",
       "      <td>0.989324</td>\n",
       "      <td>-0.068304</td>\n",
       "      <td>-0.035746</td>\n",
       "      <td>-0.054553</td>\n",
       "      <td>-0.110764</td>\n",
       "      <td>-0.152508</td>\n",
       "      <td>-0.082525</td>\n",
       "      <td>-0.011587</td>\n",
       "      <td>-0.035491</td>\n",
       "      <td>-0.067770</td>\n",
       "    </tr>\n",
       "    <tr>\n",
       "      <td>X5</td>\n",
       "      <td>0.030319</td>\n",
       "      <td>-0.087306</td>\n",
       "      <td>-0.081620</td>\n",
       "      <td>0.989324</td>\n",
       "      <td>1.000000</td>\n",
       "      <td>-0.074177</td>\n",
       "      <td>-0.043788</td>\n",
       "      <td>-0.037924</td>\n",
       "      <td>-0.117478</td>\n",
       "      <td>-0.158525</td>\n",
       "      <td>-0.085709</td>\n",
       "      <td>-0.005001</td>\n",
       "      <td>-0.016793</td>\n",
       "      <td>-0.071451</td>\n",
       "    </tr>\n",
       "    <tr>\n",
       "      <td>X6</td>\n",
       "      <td>0.001563</td>\n",
       "      <td>0.034905</td>\n",
       "      <td>0.041003</td>\n",
       "      <td>-0.068304</td>\n",
       "      <td>-0.074177</td>\n",
       "      <td>1.000000</td>\n",
       "      <td>0.017280</td>\n",
       "      <td>0.045092</td>\n",
       "      <td>0.113705</td>\n",
       "      <td>0.160043</td>\n",
       "      <td>0.004443</td>\n",
       "      <td>0.068186</td>\n",
       "      <td>0.016558</td>\n",
       "      <td>0.031650</td>\n",
       "    </tr>\n",
       "    <tr>\n",
       "      <td>X7</td>\n",
       "      <td>0.085104</td>\n",
       "      <td>-0.208915</td>\n",
       "      <td>-0.043448</td>\n",
       "      <td>-0.035746</td>\n",
       "      <td>-0.043788</td>\n",
       "      <td>0.017280</td>\n",
       "      <td>1.000000</td>\n",
       "      <td>-0.118161</td>\n",
       "      <td>-0.043282</td>\n",
       "      <td>0.002710</td>\n",
       "      <td>-0.025387</td>\n",
       "      <td>0.012644</td>\n",
       "      <td>0.024741</td>\n",
       "      <td>-0.022699</td>\n",
       "    </tr>\n",
       "    <tr>\n",
       "      <td>X8</td>\n",
       "      <td>0.114469</td>\n",
       "      <td>0.380424</td>\n",
       "      <td>0.249376</td>\n",
       "      <td>-0.054553</td>\n",
       "      <td>-0.037924</td>\n",
       "      <td>0.045092</td>\n",
       "      <td>-0.118161</td>\n",
       "      <td>1.000000</td>\n",
       "      <td>0.319084</td>\n",
       "      <td>0.175417</td>\n",
       "      <td>0.310425</td>\n",
       "      <td>0.158313</td>\n",
       "      <td>0.029622</td>\n",
       "      <td>0.058406</td>\n",
       "    </tr>\n",
       "    <tr>\n",
       "      <td>X9</td>\n",
       "      <td>0.041874</td>\n",
       "      <td>0.164611</td>\n",
       "      <td>0.275219</td>\n",
       "      <td>-0.110764</td>\n",
       "      <td>-0.117478</td>\n",
       "      <td>0.113705</td>\n",
       "      <td>-0.043282</td>\n",
       "      <td>0.319084</td>\n",
       "      <td>1.000000</td>\n",
       "      <td>0.393757</td>\n",
       "      <td>0.329610</td>\n",
       "      <td>0.095960</td>\n",
       "      <td>-0.082986</td>\n",
       "      <td>0.197974</td>\n",
       "    </tr>\n",
       "    <tr>\n",
       "      <td>X10</td>\n",
       "      <td>-0.052548</td>\n",
       "      <td>0.013842</td>\n",
       "      <td>0.181276</td>\n",
       "      <td>-0.152508</td>\n",
       "      <td>-0.158525</td>\n",
       "      <td>0.160043</td>\n",
       "      <td>0.002710</td>\n",
       "      <td>0.175417</td>\n",
       "      <td>0.393757</td>\n",
       "      <td>1.000000</td>\n",
       "      <td>0.526387</td>\n",
       "      <td>0.049016</td>\n",
       "      <td>-0.223637</td>\n",
       "      <td>0.267935</td>\n",
       "    </tr>\n",
       "    <tr>\n",
       "      <td>X11</td>\n",
       "      <td>0.026849</td>\n",
       "      <td>0.147272</td>\n",
       "      <td>0.284616</td>\n",
       "      <td>-0.082525</td>\n",
       "      <td>-0.085709</td>\n",
       "      <td>0.004443</td>\n",
       "      <td>-0.025387</td>\n",
       "      <td>0.310425</td>\n",
       "      <td>0.329610</td>\n",
       "      <td>0.526387</td>\n",
       "      <td>1.000000</td>\n",
       "      <td>0.062255</td>\n",
       "      <td>-0.116346</td>\n",
       "      <td>0.202664</td>\n",
       "    </tr>\n",
       "    <tr>\n",
       "      <td>X12</td>\n",
       "      <td>0.046226</td>\n",
       "      <td>0.081754</td>\n",
       "      <td>0.023206</td>\n",
       "      <td>-0.011587</td>\n",
       "      <td>-0.005001</td>\n",
       "      <td>0.068186</td>\n",
       "      <td>0.012644</td>\n",
       "      <td>0.158313</td>\n",
       "      <td>0.095960</td>\n",
       "      <td>0.049016</td>\n",
       "      <td>0.062255</td>\n",
       "      <td>1.000000</td>\n",
       "      <td>0.006895</td>\n",
       "      <td>-0.078798</td>\n",
       "    </tr>\n",
       "    <tr>\n",
       "      <td>X13</td>\n",
       "      <td>0.068913</td>\n",
       "      <td>0.005050</td>\n",
       "      <td>-0.110240</td>\n",
       "      <td>-0.035491</td>\n",
       "      <td>-0.016793</td>\n",
       "      <td>0.016558</td>\n",
       "      <td>0.024741</td>\n",
       "      <td>0.029622</td>\n",
       "      <td>-0.082986</td>\n",
       "      <td>-0.223637</td>\n",
       "      <td>-0.116346</td>\n",
       "      <td>0.006895</td>\n",
       "      <td>1.000000</td>\n",
       "      <td>-0.168701</td>\n",
       "    </tr>\n",
       "    <tr>\n",
       "      <td>X15</td>\n",
       "      <td>-0.052107</td>\n",
       "      <td>-0.014190</td>\n",
       "      <td>0.067727</td>\n",
       "      <td>-0.067770</td>\n",
       "      <td>-0.071451</td>\n",
       "      <td>0.031650</td>\n",
       "      <td>-0.022699</td>\n",
       "      <td>0.058406</td>\n",
       "      <td>0.197974</td>\n",
       "      <td>0.267935</td>\n",
       "      <td>0.202664</td>\n",
       "      <td>-0.078798</td>\n",
       "      <td>-0.168701</td>\n",
       "      <td>1.000000</td>\n",
       "    </tr>\n",
       "  </tbody>\n",
       "</table>\n",
       "</div>"
      ],
      "text/plain": [
       "          %X1        X2        X3        X4        X5        X6        X7  \\\n",
       "%X1  1.000000  0.059702  0.000892  0.037958  0.030319  0.001563  0.085104   \n",
       "X2   0.059702  1.000000  0.113973 -0.079490 -0.087306  0.034905 -0.208915   \n",
       "X3   0.000892  0.113973  1.000000 -0.075675 -0.081620  0.041003 -0.043448   \n",
       "X4   0.037958 -0.079490 -0.075675  1.000000  0.989324 -0.068304 -0.035746   \n",
       "X5   0.030319 -0.087306 -0.081620  0.989324  1.000000 -0.074177 -0.043788   \n",
       "X6   0.001563  0.034905  0.041003 -0.068304 -0.074177  1.000000  0.017280   \n",
       "X7   0.085104 -0.208915 -0.043448 -0.035746 -0.043788  0.017280  1.000000   \n",
       "X8   0.114469  0.380424  0.249376 -0.054553 -0.037924  0.045092 -0.118161   \n",
       "X9   0.041874  0.164611  0.275219 -0.110764 -0.117478  0.113705 -0.043282   \n",
       "X10 -0.052548  0.013842  0.181276 -0.152508 -0.158525  0.160043  0.002710   \n",
       "X11  0.026849  0.147272  0.284616 -0.082525 -0.085709  0.004443 -0.025387   \n",
       "X12  0.046226  0.081754  0.023206 -0.011587 -0.005001  0.068186  0.012644   \n",
       "X13  0.068913  0.005050 -0.110240 -0.035491 -0.016793  0.016558  0.024741   \n",
       "X15 -0.052107 -0.014190  0.067727 -0.067770 -0.071451  0.031650 -0.022699   \n",
       "\n",
       "           X8        X9       X10       X11       X12       X13       X15  \n",
       "%X1  0.114469  0.041874 -0.052548  0.026849  0.046226  0.068913 -0.052107  \n",
       "X2   0.380424  0.164611  0.013842  0.147272  0.081754  0.005050 -0.014190  \n",
       "X3   0.249376  0.275219  0.181276  0.284616  0.023206 -0.110240  0.067727  \n",
       "X4  -0.054553 -0.110764 -0.152508 -0.082525 -0.011587 -0.035491 -0.067770  \n",
       "X5  -0.037924 -0.117478 -0.158525 -0.085709 -0.005001 -0.016793 -0.071451  \n",
       "X6   0.045092  0.113705  0.160043  0.004443  0.068186  0.016558  0.031650  \n",
       "X7  -0.118161 -0.043282  0.002710 -0.025387  0.012644  0.024741 -0.022699  \n",
       "X8   1.000000  0.319084  0.175417  0.310425  0.158313  0.029622  0.058406  \n",
       "X9   0.319084  1.000000  0.393757  0.329610  0.095960 -0.082986  0.197974  \n",
       "X10  0.175417  0.393757  1.000000  0.526387  0.049016 -0.223637  0.267935  \n",
       "X11  0.310425  0.329610  0.526387  1.000000  0.062255 -0.116346  0.202664  \n",
       "X12  0.158313  0.095960  0.049016  0.062255  1.000000  0.006895 -0.078798  \n",
       "X13  0.029622 -0.082986 -0.223637 -0.116346  0.006895  1.000000 -0.168701  \n",
       "X15  0.058406  0.197974  0.267935  0.202664 -0.078798 -0.168701  1.000000  "
      ]
     },
     "execution_count": 115,
     "metadata": {},
     "output_type": "execute_result"
    }
   ],
   "source": [
    "#Correlation\n",
    "data.corr(method='pearson')"
   ]
  },
  {
   "cell_type": "markdown",
   "metadata": {},
   "source": [
    "Here i found X4 and X5 have highly correlated to each other. so i have to remove X4 or X5"
   ]
  },
  {
   "cell_type": "code",
   "execution_count": 116,
   "metadata": {},
   "outputs": [],
   "source": [
    "data.drop(['X5'], axis=1, inplace =True )"
   ]
  },
  {
   "cell_type": "code",
   "execution_count": 117,
   "metadata": {},
   "outputs": [
    {
     "data": {
      "text/html": [
       "<div>\n",
       "<style scoped>\n",
       "    .dataframe tbody tr th:only-of-type {\n",
       "        vertical-align: middle;\n",
       "    }\n",
       "\n",
       "    .dataframe tbody tr th {\n",
       "        vertical-align: top;\n",
       "    }\n",
       "\n",
       "    .dataframe thead th {\n",
       "        text-align: right;\n",
       "    }\n",
       "</style>\n",
       "<table border=\"1\" class=\"dataframe\">\n",
       "  <thead>\n",
       "    <tr style=\"text-align: right;\">\n",
       "      <th></th>\n",
       "      <th>%X1</th>\n",
       "      <th>X2</th>\n",
       "      <th>X3</th>\n",
       "      <th>X4</th>\n",
       "      <th>X6</th>\n",
       "      <th>X7</th>\n",
       "      <th>X8</th>\n",
       "      <th>X9</th>\n",
       "      <th>X10</th>\n",
       "      <th>X11</th>\n",
       "      <th>X12</th>\n",
       "      <th>X13</th>\n",
       "      <th>X14</th>\n",
       "      <th>X15</th>\n",
       "      <th>class label</th>\n",
       "    </tr>\n",
       "  </thead>\n",
       "  <tbody>\n",
       "    <tr>\n",
       "      <td>0</td>\n",
       "      <td>2</td>\n",
       "      <td>30.83</td>\n",
       "      <td>0.000</td>\n",
       "      <td>1</td>\n",
       "      <td>13</td>\n",
       "      <td>8</td>\n",
       "      <td>1.25</td>\n",
       "      <td>1</td>\n",
       "      <td>1</td>\n",
       "      <td>1</td>\n",
       "      <td>0</td>\n",
       "      <td>0</td>\n",
       "      <td>00202</td>\n",
       "      <td>0</td>\n",
       "      <td>+</td>\n",
       "    </tr>\n",
       "    <tr>\n",
       "      <td>1</td>\n",
       "      <td>1</td>\n",
       "      <td>58.67</td>\n",
       "      <td>4.460</td>\n",
       "      <td>1</td>\n",
       "      <td>11</td>\n",
       "      <td>4</td>\n",
       "      <td>3.04</td>\n",
       "      <td>1</td>\n",
       "      <td>1</td>\n",
       "      <td>6</td>\n",
       "      <td>0</td>\n",
       "      <td>0</td>\n",
       "      <td>00043</td>\n",
       "      <td>560</td>\n",
       "      <td>+</td>\n",
       "    </tr>\n",
       "    <tr>\n",
       "      <td>2</td>\n",
       "      <td>1</td>\n",
       "      <td>24.50</td>\n",
       "      <td>0.500</td>\n",
       "      <td>1</td>\n",
       "      <td>11</td>\n",
       "      <td>4</td>\n",
       "      <td>1.50</td>\n",
       "      <td>1</td>\n",
       "      <td>0</td>\n",
       "      <td>0</td>\n",
       "      <td>0</td>\n",
       "      <td>0</td>\n",
       "      <td>00280</td>\n",
       "      <td>824</td>\n",
       "      <td>+</td>\n",
       "    </tr>\n",
       "    <tr>\n",
       "      <td>3</td>\n",
       "      <td>2</td>\n",
       "      <td>27.83</td>\n",
       "      <td>1.540</td>\n",
       "      <td>1</td>\n",
       "      <td>13</td>\n",
       "      <td>8</td>\n",
       "      <td>3.75</td>\n",
       "      <td>1</td>\n",
       "      <td>1</td>\n",
       "      <td>5</td>\n",
       "      <td>1</td>\n",
       "      <td>0</td>\n",
       "      <td>00100</td>\n",
       "      <td>3</td>\n",
       "      <td>+</td>\n",
       "    </tr>\n",
       "    <tr>\n",
       "      <td>4</td>\n",
       "      <td>2</td>\n",
       "      <td>20.17</td>\n",
       "      <td>5.625</td>\n",
       "      <td>1</td>\n",
       "      <td>13</td>\n",
       "      <td>8</td>\n",
       "      <td>1.71</td>\n",
       "      <td>1</td>\n",
       "      <td>0</td>\n",
       "      <td>0</td>\n",
       "      <td>0</td>\n",
       "      <td>2</td>\n",
       "      <td>00120</td>\n",
       "      <td>0</td>\n",
       "      <td>+</td>\n",
       "    </tr>\n",
       "  </tbody>\n",
       "</table>\n",
       "</div>"
      ],
      "text/plain": [
       "   %X1     X2     X3  X4  X6  X7    X8  X9  X10  X11  X12  X13    X14  X15  \\\n",
       "0    2  30.83  0.000   1  13   8  1.25   1    1    1    0    0  00202    0   \n",
       "1    1  58.67  4.460   1  11   4  3.04   1    1    6    0    0  00043  560   \n",
       "2    1  24.50  0.500   1  11   4  1.50   1    0    0    0    0  00280  824   \n",
       "3    2  27.83  1.540   1  13   8  3.75   1    1    5    1    0  00100    3   \n",
       "4    2  20.17  5.625   1  13   8  1.71   1    0    0    0    2  00120    0   \n",
       "\n",
       "  class label  \n",
       "0           +  \n",
       "1           +  \n",
       "2           +  \n",
       "3           +  \n",
       "4           +  "
      ]
     },
     "execution_count": 117,
     "metadata": {},
     "output_type": "execute_result"
    }
   ],
   "source": [
    "data.head()"
   ]
  },
  {
   "cell_type": "code",
   "execution_count": 118,
   "metadata": {},
   "outputs": [],
   "source": [
    "#Splitting data\n",
    "X=data.iloc[:,0:-1]\n",
    "y=data.iloc[:,-1]"
   ]
  },
  {
   "cell_type": "code",
   "execution_count": 119,
   "metadata": {},
   "outputs": [],
   "source": [
    "#Model Training\n",
    "from sklearn.model_selection import train_test_split\n",
    "X_train,X_test,y_train,y_test = train_test_split(X,y,test_size =0.2, random_state =1)"
   ]
  },
  {
   "cell_type": "markdown",
   "metadata": {},
   "source": [
    "# Binary Logistic Regression"
   ]
  },
  {
   "cell_type": "code",
   "execution_count": 122,
   "metadata": {},
   "outputs": [
    {
     "name": "stdout",
     "output_type": "stream",
     "text": [
      "[[43  3]\n",
      " [ 8 57]]\n",
      "0.9009009009009009\n"
     ]
    }
   ],
   "source": [
    "from sklearn.linear_model import LogisticRegression\n",
    "from sklearn.metrics import confusion_matrix,accuracy_score\n",
    "LR=LogisticRegression()\n",
    "LR.fit(X_train,y_train)\n",
    "\n",
    "y_pred = LR.predict(X_test)\n",
    "cnf_mat=confusion_matrix(y_test,y_pred)\n",
    "print(cnf_mat)\n",
    "print(accuracy_score(y_test,y_pred))"
   ]
  },
  {
   "cell_type": "markdown",
   "metadata": {},
   "source": [
    "# Ordinal Logistic Regression"
   ]
  },
  {
   "cell_type": "code",
   "execution_count": 136,
   "metadata": {},
   "outputs": [
    {
     "name": "stdout",
     "output_type": "stream",
     "text": [
      "Accuracy 0.9009009009009009\n"
     ]
    }
   ],
   "source": [
    "from sklearn.linear_model import LogisticRegression\n",
    "olr = LogisticRegression(solver = 'lbfgs')\n",
    "olr.fit(X_train,y_train)\n",
    "y_pred = LR.predict(X_test)\n",
    "print('Accuracy',accuracy_score(y_test,y_pred))"
   ]
  },
  {
   "cell_type": "markdown",
   "metadata": {},
   "source": [
    "# Multi Class Logistic Regression"
   ]
  },
  {
   "cell_type": "code",
   "execution_count": 125,
   "metadata": {},
   "outputs": [
    {
     "name": "stdout",
     "output_type": "stream",
     "text": [
      "Accuracy thru Multiclass Logistic Regression  0.8828828828828829\n"
     ]
    }
   ],
   "source": [
    "from sklearn.linear_model import LogisticRegression\n",
    "\n",
    "clf = LogisticRegression(random_state=0, multi_class='multinomial', solver='newton-cg')\n",
    "# Train model\n",
    "clf.fit(X_train,y_train)\n",
    "y_pred = clf.predict(X_test)\n",
    "\n",
    "print('Accuracy thru Multiclass Logistic Regression ', accuracy_score(y_test, y_pred))"
   ]
  },
  {
   "cell_type": "code",
   "execution_count": 126,
   "metadata": {},
   "outputs": [
    {
     "name": "stdout",
     "output_type": "stream",
     "text": [
      "[[43  3]\n",
      " [10 55]]\n"
     ]
    }
   ],
   "source": [
    "#confusion matrix\n",
    "from sklearn import metrics\n",
    "cnf_mat=metrics.confusion_matrix(y_test,y_pred)\n",
    "print(cnf_mat)"
   ]
  },
  {
   "cell_type": "markdown",
   "metadata": {},
   "source": [
    "# QuadraticDiscriminantAnalysis\n"
   ]
  },
  {
   "cell_type": "code",
   "execution_count": 127,
   "metadata": {},
   "outputs": [
    {
     "name": "stdout",
     "output_type": "stream",
     "text": [
      "Accuracy thru Multiclass Logistic Regression  0.8468468468468469\n"
     ]
    }
   ],
   "source": [
    "from sklearn.discriminant_analysis import QuadraticDiscriminantAnalysis\n",
    "QDA=QuadraticDiscriminantAnalysis()\n",
    "QDA.fit(X_train,y_train)\n",
    "y_pred = QDA.predict(X_test)\n",
    "\n",
    "print('Accuracy thru Multiclass Logistic Regression ', accuracy_score(y_test, y_pred))"
   ]
  },
  {
   "cell_type": "markdown",
   "metadata": {},
   "source": [
    "# Linear Discriminant Analysis"
   ]
  },
  {
   "cell_type": "code",
   "execution_count": 135,
   "metadata": {},
   "outputs": [
    {
     "name": "stdout",
     "output_type": "stream",
     "text": [
      "Accuracy thru Multiclass Logistic Regression  0.8468468468468469\n"
     ]
    }
   ],
   "source": [
    "from sklearn.discriminant_analysis import LinearDiscriminantAnalysis\n",
    "LDM=LinearDiscriminantAnalysis()\n",
    "LDM.fit(X_train,y_train)\n",
    "y_pred = QDA.predict(X_test)\n",
    "\n",
    "print('Accuracy thru Multiclass Logistic Regression ', accuracy_score(y_test, y_pred))"
   ]
  },
  {
   "cell_type": "code",
   "execution_count": 51,
   "metadata": {},
   "outputs": [
    {
     "name": "stdout",
     "output_type": "stream",
     "text": [
      "[[51  7]\n",
      " [53 23]]\n"
     ]
    }
   ],
   "source": [
    "#confusion matrix\n",
    "from sklearn import metrics\n",
    "cnf_mat=metrics.confusion_matrix(y_test,y_pred)\n",
    "print(cnf_mat)"
   ]
  },
  {
   "cell_type": "markdown",
   "metadata": {},
   "source": [
    "# KNN"
   ]
  },
  {
   "cell_type": "code",
   "execution_count": 157,
   "metadata": {},
   "outputs": [
    {
     "data": {
      "text/plain": [
       "0.6756756756756757"
      ]
     },
     "execution_count": 157,
     "metadata": {},
     "output_type": "execute_result"
    }
   ],
   "source": [
    "from sklearn.neighbors import KNeighborsClassifier\n",
    "KNN=KNeighborsClassifier(n_neighbors=23)\n",
    "KNN.fit(X_train,y_train)\n",
    "y_pred=KNN.predict(X_test)\n",
    "accuracy_score(y_test,y_pred)"
   ]
  },
  {
   "cell_type": "code",
   "execution_count": 144,
   "metadata": {},
   "outputs": [
    {
     "name": "stdout",
     "output_type": "stream",
     "text": [
      "[[16 30]\n",
      " [ 9 56]]\n"
     ]
    }
   ],
   "source": [
    "#confusion matrix\n",
    "from sklearn import metrics\n",
    "cnf_mat=metrics.confusion_matrix(y_test,y_pred)\n",
    "print(cnf_mat)"
   ]
  },
  {
   "cell_type": "code",
   "execution_count": 159,
   "metadata": {},
   "outputs": [
    {
     "data": {
      "text/plain": [
       "0.6559537232793048"
      ]
     },
     "execution_count": 159,
     "metadata": {},
     "output_type": "execute_result"
    }
   ],
   "source": [
    "# Applying k-Fold Cross Validation\n",
    "from sklearn.model_selection import cross_val_score\n",
    "accuracies3 = cross_val_score(estimator = KNN, X = X_train, y = y_train, cv = 10,n_jobs=-1)\n",
    "accuracies3.mean()"
   ]
  },
  {
   "cell_type": "markdown",
   "metadata": {},
   "source": [
    "# SVM\n"
   ]
  },
  {
   "cell_type": "code",
   "execution_count": null,
   "metadata": {},
   "outputs": [],
   "source": [
    "from sklearn.svm import SVC\n",
    "classifier = SVC(kernel = 'poly', random_state = 1,degree=3)\n",
    "classifier.fit(X_train, y_train)\n",
    "y_pred=classifier.predict(X_test)\n",
    "accuracy_score(y_test,y_pred)"
   ]
  },
  {
   "cell_type": "markdown",
   "metadata": {},
   "source": [
    "# NaiveBayes\n"
   ]
  },
  {
   "cell_type": "code",
   "execution_count": 169,
   "metadata": {},
   "outputs": [
    {
     "name": "stdout",
     "output_type": "stream",
     "text": [
      "Accuracy 0.8468468468468469\n"
     ]
    }
   ],
   "source": [
    "from sklearn.naive_bayes import GaussianNB,MultinomialNB,BernoulliNB\n",
    "GNB=BernoulliNB()\n",
    "GNB.fit(X_train,y_train)\n",
    "y_pred =GNB.predict(X_test)\n",
    "print('Accuracy',metrics.accuracy_score(y_test,y_pred))"
   ]
  },
  {
   "cell_type": "code",
   "execution_count": 57,
   "metadata": {},
   "outputs": [
    {
     "name": "stdout",
     "output_type": "stream",
     "text": [
      "[[35 23]\n",
      " [ 8 68]]\n"
     ]
    }
   ],
   "source": [
    "#confusion matrix\n",
    "from sklearn import metrics\n",
    "cnf_mat=metrics.confusion_matrix(y_test,y_pred)\n",
    "print(cnf_mat)"
   ]
  },
  {
   "cell_type": "markdown",
   "metadata": {},
   "source": [
    "# Decision Tree"
   ]
  },
  {
   "cell_type": "code",
   "execution_count": 146,
   "metadata": {},
   "outputs": [
    {
     "data": {
      "text/plain": [
       "DecisionTreeClassifier(class_weight=None, criterion='gini', max_depth=None,\n",
       "                       max_features=None, max_leaf_nodes=None,\n",
       "                       min_impurity_decrease=0.0, min_impurity_split=None,\n",
       "                       min_samples_leaf=1, min_samples_split=2,\n",
       "                       min_weight_fraction_leaf=0.0, presort=False,\n",
       "                       random_state=None, splitter='best')"
      ]
     },
     "execution_count": 146,
     "metadata": {},
     "output_type": "execute_result"
    }
   ],
   "source": [
    "from sklearn.tree import DecisionTreeClassifier\n",
    "DTC=DecisionTreeClassifier()\n",
    "DTC.fit(X_train,y_train)"
   ]
  },
  {
   "cell_type": "code",
   "execution_count": 59,
   "metadata": {},
   "outputs": [
    {
     "name": "stdout",
     "output_type": "stream",
     "text": [
      "Accuracy 0.8059701492537313\n"
     ]
    }
   ],
   "source": [
    "y_pred =DTC.predict(X_test)\n",
    "print('Accuracy',metrics.accuracy_score(y_test,y_pred))"
   ]
  },
  {
   "cell_type": "code",
   "execution_count": 147,
   "metadata": {},
   "outputs": [
    {
     "name": "stdout",
     "output_type": "stream",
     "text": [
      "[[32 14]\n",
      " [ 3 62]]\n"
     ]
    }
   ],
   "source": [
    "#confusion matrix\n",
    "from sklearn import metrics\n",
    "cnf_mat=metrics.confusion_matrix(y_test,y_pred)\n",
    "print(cnf_mat)"
   ]
  },
  {
   "cell_type": "markdown",
   "metadata": {},
   "source": [
    "# Random Forest"
   ]
  },
  {
   "cell_type": "code",
   "execution_count": 181,
   "metadata": {},
   "outputs": [
    {
     "name": "stdout",
     "output_type": "stream",
     "text": [
      "Accuracy 0.8918918918918919\n"
     ]
    }
   ],
   "source": [
    "from sklearn.ensemble import RandomForestClassifier\n",
    "\n",
    "RFC = RandomForestClassifier(n_estimators=80, random_state=0,bootstrap =True,criterion='entropy')\n",
    "RFC.fit(X_train, y_train)\n",
    "y_pred = regressor.predict(X_test)\n",
    "print('Accuracy',metrics.accuracy_score(y_test,y_pred))"
   ]
  },
  {
   "cell_type": "code",
   "execution_count": 182,
   "metadata": {},
   "outputs": [
    {
     "name": "stdout",
     "output_type": "stream",
     "text": [
      "{'bootstrap': True, 'criterion': 'gini', 'n_estimators': 100}\n",
      "0.8536036036036037\n"
     ]
    }
   ],
   "source": [
    "#Hyper parameter tuning\n",
    "\n",
    "grid_param ={\n",
    "                'n_estimators': [50,100,300],\n",
    "                'criterion': ['gini', 'entropy'],\n",
    "                'bootstrap': [True, False]\n",
    "            }\n",
    "\n",
    "from sklearn.model_selection import GridSearchCV\n",
    "\n",
    "gd_sr = GridSearchCV(estimator=RFC,\n",
    "                     param_grid=grid_param,\n",
    "                     scoring='accuracy',\n",
    "                     cv=5,\n",
    "                     n_jobs=-1)\n",
    "\n",
    "gd_sr.fit(X_train, y_train)\n",
    "\n",
    "best_parameters = gd_sr.best_params_\n",
    "print(best_parameters)\n",
    "\n",
    "best_result = gd_sr.best_score_\n",
    "print(best_result)"
   ]
  },
  {
   "cell_type": "markdown",
   "metadata": {},
   "source": [
    "# Gradient Boost"
   ]
  },
  {
   "cell_type": "code",
   "execution_count": 172,
   "metadata": {},
   "outputs": [
    {
     "name": "stdout",
     "output_type": "stream",
     "text": [
      "Accuracy 0.9099099099099099\n"
     ]
    }
   ],
   "source": [
    "from sklearn.ensemble import GradientBoostingClassifier\n",
    "GBC=GradientBoostingClassifier(random_state=1)\n",
    "GBC.fit(X_train,y_train)\n",
    "y_pred = GBC.predict(X_test)\n",
    "print('Accuracy',metrics.accuracy_score(y_test,y_pred))"
   ]
  },
  {
   "cell_type": "markdown",
   "metadata": {},
   "source": [
    "In all the models Binary Logisting Regression ,Gradient Boosting are give 90.99 % accuracy"
   ]
  },
  {
   "cell_type": "code",
   "execution_count": 311,
   "metadata": {},
   "outputs": [
    {
     "data": {
      "text/plain": [
       "['Credit_Card_Approval_GB.pkl']"
      ]
     },
     "execution_count": 311,
     "metadata": {},
     "output_type": "execute_result"
    }
   ],
   "source": [
    "#So i have to save model\n",
    "from sklearn.externals import joblib\n",
    "joblib.dump(KNN ,\"Credit_Card_Approval_GB.pkl\")"
   ]
  },
  {
   "cell_type": "code",
   "execution_count": 312,
   "metadata": {},
   "outputs": [
    {
     "data": {
      "text/plain": [
       "KNeighborsClassifier(algorithm='auto', leaf_size=30, metric='minkowski',\n",
       "                     metric_params=None, n_jobs=None, n_neighbors=23, p=2,\n",
       "                     weights='uniform')"
      ]
     },
     "execution_count": 312,
     "metadata": {},
     "output_type": "execute_result"
    }
   ],
   "source": [
    "#Load Saved Model from joblib\n",
    "CCA=joblib.load(\"Credit_Card_Approval_GB.pkl\")\n",
    "CCA"
   ]
  },
  {
   "cell_type": "code",
   "execution_count": 65,
   "metadata": {},
   "outputs": [
    {
     "data": {
      "text/html": [
       "<div>\n",
       "<style scoped>\n",
       "    .dataframe tbody tr th:only-of-type {\n",
       "        vertical-align: middle;\n",
       "    }\n",
       "\n",
       "    .dataframe tbody tr th {\n",
       "        vertical-align: top;\n",
       "    }\n",
       "\n",
       "    .dataframe thead th {\n",
       "        text-align: right;\n",
       "    }\n",
       "</style>\n",
       "<table border=\"1\" class=\"dataframe\">\n",
       "  <thead>\n",
       "    <tr style=\"text-align: right;\">\n",
       "      <th></th>\n",
       "      <th>%X1</th>\n",
       "      <th>X2</th>\n",
       "      <th>X3</th>\n",
       "      <th>X4</th>\n",
       "      <th>X5</th>\n",
       "      <th>X6</th>\n",
       "      <th>X7</th>\n",
       "      <th>X8</th>\n",
       "      <th>X9</th>\n",
       "      <th>X10</th>\n",
       "      <th>X11</th>\n",
       "      <th>X12</th>\n",
       "      <th>X13</th>\n",
       "      <th>X14</th>\n",
       "      <th>X15</th>\n",
       "      <th>class label</th>\n",
       "    </tr>\n",
       "  </thead>\n",
       "  <tbody>\n",
       "    <tr>\n",
       "      <td>0</td>\n",
       "      <td>3</td>\n",
       "      <td>30.83</td>\n",
       "      <td>0.000</td>\n",
       "      <td>3</td>\n",
       "      <td>2</td>\n",
       "      <td>14</td>\n",
       "      <td>9</td>\n",
       "      <td>1.25</td>\n",
       "      <td>2</td>\n",
       "      <td>2</td>\n",
       "      <td>1</td>\n",
       "      <td>1</td>\n",
       "      <td>1</td>\n",
       "      <td>00202</td>\n",
       "      <td>0</td>\n",
       "      <td>+</td>\n",
       "    </tr>\n",
       "    <tr>\n",
       "      <td>1</td>\n",
       "      <td>2</td>\n",
       "      <td>58.67</td>\n",
       "      <td>4.460</td>\n",
       "      <td>3</td>\n",
       "      <td>2</td>\n",
       "      <td>12</td>\n",
       "      <td>5</td>\n",
       "      <td>3.04</td>\n",
       "      <td>2</td>\n",
       "      <td>2</td>\n",
       "      <td>6</td>\n",
       "      <td>1</td>\n",
       "      <td>1</td>\n",
       "      <td>00043</td>\n",
       "      <td>560</td>\n",
       "      <td>+</td>\n",
       "    </tr>\n",
       "    <tr>\n",
       "      <td>2</td>\n",
       "      <td>2</td>\n",
       "      <td>24.50</td>\n",
       "      <td>0.500</td>\n",
       "      <td>3</td>\n",
       "      <td>2</td>\n",
       "      <td>12</td>\n",
       "      <td>5</td>\n",
       "      <td>1.50</td>\n",
       "      <td>2</td>\n",
       "      <td>1</td>\n",
       "      <td>0</td>\n",
       "      <td>1</td>\n",
       "      <td>1</td>\n",
       "      <td>00280</td>\n",
       "      <td>824</td>\n",
       "      <td>+</td>\n",
       "    </tr>\n",
       "    <tr>\n",
       "      <td>3</td>\n",
       "      <td>3</td>\n",
       "      <td>27.83</td>\n",
       "      <td>1.540</td>\n",
       "      <td>3</td>\n",
       "      <td>2</td>\n",
       "      <td>14</td>\n",
       "      <td>9</td>\n",
       "      <td>3.75</td>\n",
       "      <td>2</td>\n",
       "      <td>2</td>\n",
       "      <td>5</td>\n",
       "      <td>2</td>\n",
       "      <td>1</td>\n",
       "      <td>00100</td>\n",
       "      <td>3</td>\n",
       "      <td>+</td>\n",
       "    </tr>\n",
       "    <tr>\n",
       "      <td>4</td>\n",
       "      <td>3</td>\n",
       "      <td>20.17</td>\n",
       "      <td>5.625</td>\n",
       "      <td>3</td>\n",
       "      <td>2</td>\n",
       "      <td>14</td>\n",
       "      <td>9</td>\n",
       "      <td>1.71</td>\n",
       "      <td>2</td>\n",
       "      <td>1</td>\n",
       "      <td>0</td>\n",
       "      <td>1</td>\n",
       "      <td>3</td>\n",
       "      <td>00120</td>\n",
       "      <td>0</td>\n",
       "      <td>+</td>\n",
       "    </tr>\n",
       "  </tbody>\n",
       "</table>\n",
       "</div>"
      ],
      "text/plain": [
       "   %X1     X2     X3  X4  X5  X6  X7    X8  X9  X10  X11  X12  X13    X14  \\\n",
       "0    3  30.83  0.000   3   2  14   9  1.25   2    2    1    1    1  00202   \n",
       "1    2  58.67  4.460   3   2  12   5  3.04   2    2    6    1    1  00043   \n",
       "2    2  24.50  0.500   3   2  12   5  1.50   2    1    0    1    1  00280   \n",
       "3    3  27.83  1.540   3   2  14   9  3.75   2    2    5    2    1  00100   \n",
       "4    3  20.17  5.625   3   2  14   9  1.71   2    1    0    1    3  00120   \n",
       "\n",
       "   X15 class label  \n",
       "0    0           +  \n",
       "1  560           +  \n",
       "2  824           +  \n",
       "3    3           +  \n",
       "4    0           +  "
      ]
     },
     "execution_count": 65,
     "metadata": {},
     "output_type": "execute_result"
    }
   ],
   "source": [
    "data.head()"
   ]
  },
  {
   "cell_type": "code",
   "execution_count": 313,
   "metadata": {},
   "outputs": [
    {
     "name": "stdout",
     "output_type": "stream",
     "text": [
      "Creditcard not approved\n"
     ]
    }
   ],
   "source": [
    "#Testing\n",
    "X1= 2\n",
    "X2=60.00\n",
    "X3= 2\n",
    "X4= 3\n",
    "X6= 8\n",
    "X7= 9\n",
    "X8 =1\n",
    "X9 =2\n",
    "X10 =2\n",
    "X11=4\n",
    "X12=1\n",
    "X13=2 \n",
    "X14='00043'\n",
    "X15=200\n",
    "input=[X1,X2,X3,X4,X6,X7,X8,X9,X10,X11,X12,X13,X14,X15]\n",
    "outcome=CCA.predict([input])\n",
    "if outcome=='+':\n",
    "    print(\"Creditcard approved\")\n",
    "else:\n",
    "    print(\"Creditcard not approved\")"
   ]
  },
  {
   "cell_type": "code",
   "execution_count": 314,
   "metadata": {},
   "outputs": [
    {
     "name": "stdout",
     "output_type": "stream",
     "text": [
      "Creditcard not approved\n"
     ]
    }
   ],
   "source": [
    "input=[3,30.83,0,3,14,9,1.25,2,2,1,1,1,202,0]\n",
    "outcome=CCA.predict([input])\n",
    "if outcome=='+':\n",
    "    print(\"Creditcard approved\")\n",
    "else:\n",
    "    print(\"Creditcard not approved\")"
   ]
  },
  {
   "cell_type": "code",
   "execution_count": null,
   "metadata": {},
   "outputs": [],
   "source": []
  }
 ],
 "metadata": {
  "kernelspec": {
   "display_name": "Python 3",
   "language": "python",
   "name": "python3"
  },
  "language_info": {
   "codemirror_mode": {
    "name": "ipython",
    "version": 3
   },
   "file_extension": ".py",
   "mimetype": "text/x-python",
   "name": "python",
   "nbconvert_exporter": "python",
   "pygments_lexer": "ipython3",
   "version": "3.7.4"
  }
 },
 "nbformat": 4,
 "nbformat_minor": 2
}
